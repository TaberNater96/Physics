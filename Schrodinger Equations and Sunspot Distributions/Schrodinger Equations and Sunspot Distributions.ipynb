{
 "cells": [
  {
   "cell_type": "markdown",
   "metadata": {},
   "source": [
    "**Elijah Taber**\n",
    "\n",
    "**PH 322 - Computational Physics**\n",
    "\n",
    "**May 10, 2021**"
   ]
  },
  {
   "cell_type": "markdown",
   "metadata": {},
   "source": [
    "**Exercise 6.12**\n",
    "The biochemical process of *glycolysis*, the\n",
    "  breakdown of glucose in the body to release energy, can be modeled by the\n",
    "  equations\n",
    "$$\n",
    "{dx\\over dt} = -x + ay + x^2 y, \\qquad\n",
    "{dy\\over  dt} = b - ay - x^2 y.\n",
    "$$\n",
    "\n",
    "Here $x$ and $y$ represent concentrations of two chemicals, ADP and F6P,\n",
    "and $a$ and $b$ are positive constants.  One of the important features of\n",
    "nonlinear linear equations like these is their *stationary\n",
    "  points*, meaning values of $x$ and $y$ at which the derivatives of both\n",
    "variables become zero simultaneously, so that the variables stop changing\n",
    "and become constant in time.  Setting the derivatives to zero above, the\n",
    "stationary points of our glycolysis equations are solutions of\n",
    "\n",
    "$$\n",
    "-x + ay + x^2 y = 0, \\qquad b - ay - x^2 y = 0.\n",
    "$$\n"
   ]
  },
  {
   "cell_type": "markdown",
   "metadata": {},
   "source": [
    "**a)** Demonstrate analytically that the solution of these equations is\n",
    "\n",
    "$$\n",
    "x = b,\\qquad y = {b\\over a+b^2}\n",
    "$$"
   ]
  },
  {
   "cell_type": "markdown",
   "metadata": {},
   "source": [
    "**Answer**\n",
    "\n",
    "Adding the two equations we get;\n",
    "\n",
    "$\n",
    "-x + b = 0 \\rightarrow \\boxed{x=b}.\n",
    "$\n",
    "\n",
    "Substitute this into either equation, take the first one:\n",
    "\n",
    "$\n",
    "-b+ay+b^2y=0 \\rightarrow y(a+b^2) = b \\rightarrow \\boxed{y=\\frac{b}{a+b^2}}\n",
    "$"
   ]
  },
  {
   "cell_type": "markdown",
   "metadata": {},
   "source": [
    "**b)** Show that the equations can be rearranged to read\n",
    "\n",
    "$$\n",
    "x = y(a+x^2),\\qquad y = {b\\over a+x^2}\n",
    "$$\n",
    "\n"
   ]
  },
  {
   "cell_type": "markdown",
   "metadata": {},
   "source": [
    "**Answer**\n",
    "\n",
    "Since $x=b$, we can write the second equation in part a as:\n",
    "\n",
    "$$\n",
    "y=\\frac{x}{a+x^2}\n",
    "$$\n",
    "\n",
    "and solving this for $x$ we get:\n",
    "\n",
    "$$\n",
    "\\boxed{x = y(a+x^2)}\n",
    "$$\n",
    "\n",
    "And solving this for $y$ we get\n",
    "\n",
    "$$\n",
    "\\boxed{y = {b\\over a+x^2}}\n",
    "$$"
   ]
  },
  {
   "cell_type": "markdown",
   "metadata": {},
   "source": [
    "Write a program to solve these for the stationary point using the\n",
    "relaxation method with $a=1$ and $b=2$.  You should find that the method\n",
    "fails to converge to a solution in this case."
   ]
  },
  {
   "cell_type": "code",
   "execution_count": 64,
   "metadata": {},
   "outputs": [
    {
     "name": "stdout",
     "output_type": "stream",
     "text": [
      "iteration=0 x=2 y=1.0\n",
      "iteration=1 x=5.0 y=0.4\n",
      "iteration=2 x=10.4 y=0.07692307692307693\n",
      "iteration=3 x=8.396923076923079 y=0.018321729571271525\n",
      "iteration=4 x=1.310156049097899 y=0.0279687745347386\n",
      "iteration=5 x=0.0759774241902131 y=0.7362390824073594\n",
      "iteration=6 x=0.7404890733011719 y=1.988521124626821\n",
      "iteration=7 x=3.0788751163466825 y=1.291719247766276\n",
      "iteration=8 x=13.536535665652755 y=0.19084931029197522\n",
      "iteration=9 x=35.161656645088655 y=0.010855535745562367\n",
      "iteration=10 x=13.432011374622395 y=0.0016163678607467738\n",
      "iteration=11 x=0.2932397270847742 y=0.011024207919000618\n",
      "iteration=12 x=0.011972174459708588 y=1.841638368385246\n",
      "iteration=13 x=1.8419023358662185 y=1.9997133751601999\n",
      "iteration=14 x=8.783949400259472 y=0.45531076832048456\n",
      "iteration=15 x=35.58607297317904 y=0.02558926738916367\n",
      "iteration=16 x=32.431033721243125 y=0.001578072879767756\n",
      "iteration=17 x=1.661350860079516 y=0.0018997466672298542\n",
      "iteration=18 x=0.007143212139370495 y=0.5319026315232105\n",
      "iteration=19 x=0.5319297721101206 y=1.9998979542475976\n",
      "iteration=20 x=2.5657676453894274 y=1.5589080779324092\n",
      "iteration=21 x=11.821455008110393 y=0.263742166571354\n",
      "iteration=22 x=37.120865576687 y=0.01420991469212894\n",
      "iteration=23 x=19.59488493909098 y=0.0014503698017415505\n",
      "iteration=24 x=0.5583336565748717 y=0.005195351505903919\n",
      "iteration=25 x=0.006814932055488183 y=1.5246964939936598\n",
      "iteration=26 x=1.524767305928694 y=1.999907117715918\n",
      "iteration=27 x=6.649521848727193 y=0.6015190755704417\n",
      "iteration=28 x=27.19837122492449 y=0.04423199246719685\n",
      "iteration=29 x=32.76491022494376 y=0.0026999611574411247\n",
      "iteration=30 x=2.9012144856736284 y=0.0018612627027568595\n",
      "iteration=31 x=0.017527595544205514 y=0.2123808366142016\n",
      "iteration=32 x=0.21244608353391248 y=1.9993857554949892\n",
      "iteration=33 x=2.089624709407675 y=1.9136314252923772\n",
      "iteration=34 x=10.269563181932499 y=0.3726801990291227\n",
      "iteration=35 x=39.676997856972335 y=0.018785705530068603\n",
      "iteration=36 x=29.592448621959115 y=0.0012696283278247305\n",
      "iteration=37 x=1.1130996797794412 y=0.0022812482132351436\n",
      "iteration=38 x=0.0051076939835163725 y=0.8932595494550857\n",
      "iteration=39 x=0.8932828532906328 y=1.9999478242855298\n",
      "iteration=40 x=3.5958147024182177 y=1.1123753529015536\n",
      "iteration=41 x=15.495258934172025 y=0.1435762200073222\n",
      "iteration=42 x=34.616664470408445 y=0.008295208230131836\n",
      "iteration=43 x=9.948554876076166 y=0.0016676207415973101\n",
      "iteration=44 x=0.16671828931348773 y=0.020005252554644554\n",
      "iteration=45 x=0.02056129830917014 y=1.9459133614848052\n",
      "iteration=46 x=1.9467360294158578 y=1.999154823336475\n",
      "iteration=47 x=9.575514125184863 y=0.4175556105292424\n",
      "iteration=48 x=38.70342610910898 y=0.021577191091667686\n",
      "iteration=49 x=32.343242628216515 y=0.0013342626983754292\n",
      "iteration=50 x=1.3970869161247754 y=0.0019100639809531575\n",
      "iteration=51 x=0.005638225898100457 y=0.6775407780651947\n",
      "iteration=52 x=0.6775623168096037 y=1.999936422838536\n",
      "iteration=53 x=2.9180886214762056 y=1.3707167137554623\n",
      "iteration=54 x=13.042700152077376 y=0.21018910160824963\n",
      "iteration=55 x=35.96588328351499 y=0.01168824910826478\n",
      "iteration=56 x=15.130961640926625 y=0.0015449446486798428\n",
      "iteration=57 x=0.3552538424621783 y=0.00869769423447868\n",
      "iteration=58 x=0.009795389280148468 y=1.775875156305549\n",
      "iteration=59 x=1.776045550907282 y=1.9998081191086052\n",
      "iteration=60 x=8.307878459755093 y=0.48142450056197794\n",
      "iteration=61 x=33.70975009333343 y=0.028562923144137234\n",
      "iteration=62 x=32.48596212864841 y=0.001758477894607187\n",
      "iteration=63 x=1.8575465569824818 y=0.0018933338580366691\n",
      "iteration=64 x=0.008426242975351435 y=0.449389808381998\n",
      "iteration=65 x=0.44942171576424056 y=1.9998580069403709\n",
      "iteration=66 x=2.4037890844003726 y=1.6639213647475541\n",
      "iteration=67 x=11.27839505961545 y=0.295063500782227\n",
      "iteration=68 x=37.827788500297046 y=0.015600356905871459\n",
      "iteration=69 x=22.3387997604005 y=0.001396705022042041\n",
      "iteration=70 x=0.6983832032441295 y=0.003999824209843728\n",
      "iteration=71 x=0.0059506948644054945 y=1.344321730818013\n",
      "iteration=72 x=1.3443693342847811 y=1.999929180969018\n",
      "iteration=73 x=5.614459001617773 y=0.7124209760522788\n",
      "iteration=74 x=23.16946176143141 y=0.06149654950018705\n",
      "iteration=75 x=33.074317674870024 y=0.0037186889298648986\n",
      "iteration=76 x=4.071631517084977 y=0.0018266333356841869\n",
      "iteration=77 x=0.03210889543383003 y=0.11377740099770857\n",
      "iteration=78 x=0.11389470335525143 y=1.99794016132292\n",
      "iteration=79 x=2.023857447993251 y=1.974388229076085\n",
      "iteration=80 x=10.061480381352542 y=0.39246475751924537\n",
      "iteration=81 x=40.12300162156408 y=0.01956308061001675\n",
      "iteration=82 x=31.51329128531289 y=0.0012415764785022208\n",
      "iteration=83 x=1.2342356918815311 y=0.002011895275220082\n",
      "iteration=84 x=0.005076691283156129 y=0.7926009926565031\n",
      "iteration=85 x=0.7926214201989157 y=1.9999484557396707\n",
      "iteration=86 x=3.2564135046406064 y=1.2283135743600195\n",
      "iteration=87 x=14.253631894071598 y=0.17235096058161883\n",
      "iteration=88 x=35.18821003941974 y=0.009795949290318658\n",
      "iteration=89 x=12.139239552173828 y=0.0016139312925189705\n",
      "iteration=90 x=0.23944468144476974 y=0.013480619262710493\n",
      "iteration=91 x=0.014253513791132395 y=1.8915503166801233\n",
      "iteration=92 x=1.8919346090652713 y=1.9995937572225735\n",
      "iteration=93 x=9.156972775053573 y=0.4367368575497102\n",
      "iteration=94 x=37.05718804965809 y=0.023570965879249426\n",
      "iteration=95 x=32.39205068275194 y=0.0014553549640992907\n",
      "iteration=96 x=1.5284791977682277 y=0.0019043176593103687\n",
      "iteration=97 x=0.006353277235299352 y=0.5994757001094858\n",
      "iteration=98 x=0.5994998974255532 y=1.9999192749951373\n",
      "iteration=99 x=2.718690516444634 y=1.4712371731156297\n"
     ]
    }
   ],
   "source": [
    "\"\"\"\n",
    "Program: ex6.12_glycolysis\n",
    "Purpose: Practice relaxation method for two variables\n",
    "Does it work?: Yes \n",
    "\"\"\"\n",
    "\n",
    "from math import sqrt\n",
    "\n",
    "#define the function f(x,y)\n",
    "def f(x,y,a):\n",
    "    return y*(a+x**2)\n",
    "\n",
    "#define the function g(x)\n",
    "def g(x,a,b):\n",
    "    return b/(a+x**2)\n",
    "\n",
    "\n",
    "#initialize guess for x\n",
    "x = 1\n",
    "    \n",
    "#initialize guess for y\n",
    "y = 1\n",
    "\n",
    "\n",
    "# set a,b\n",
    "a=1\n",
    "b=2\n",
    "\n",
    "# set maximum number of iterations\n",
    "N=100\n",
    "\n",
    "for i in range(N):\n",
    "    x, y = f(x,y,a), g(x,a,b)\n",
    "    print (\"iteration={} x={} y={}\".format(i,x,y))\n",
    "    "
   ]
  },
  {
   "cell_type": "markdown",
   "metadata": {},
   "source": [
    "We see the solutions do not converge even after 100 hundred iterations. "
   ]
  },
  {
   "cell_type": "markdown",
   "metadata": {},
   "source": [
    "**c)**  Find a different way to rearrange the equations such that when you\n",
    "  apply the relaxation method again it now converges to a fixed point and\n",
    "  gives a solution.  Verify that the solution you get agrees with part (a).\n",
    "  \n",
    "**Answer**\n",
    " \n",
    " Solve the first equation in part b for $y$ and the second one for $x$:\n",
    " \n",
    " $$\n",
    " y = \\frac{x}{a+x^2}\n",
    " $$\n",
    " \n",
    " $$\n",
    " x = \\sqrt{\\frac{b-ay}{y}}\n",
    " $$\n",
    " \n",
    " \n",
    "  "
   ]
  },
  {
   "cell_type": "code",
   "execution_count": 65,
   "metadata": {},
   "outputs": [
    {
     "name": "stdout",
     "output_type": "stream",
     "text": [
      "iteration=0 x=1.0 y=0.5\n",
      "iteration=1 x=1.7320508075688772 y=0.5\n",
      "iteration=2 x=1.7320508075688772 y=0.43301270189221935\n",
      "iteration=3 x=1.902314945932194 y=0.43301270189221935\n",
      "iteration=4 x=1.902314945932194 y=0.4118632672940252\n",
      "iteration=5 x=1.9636650714924069 y=0.4118632672940252\n",
      "iteration=6 x=1.9636650714924069 y=0.40438075610800917\n",
      "iteration=7 x=1.9864122863201301 y=0.40438075610800917\n",
      "iteration=8 x=1.9864122863201301 y=0.4016334511421867\n",
      "iteration=9 x=1.9949097477571616 y=0.4016334511421867\n",
      "iteration=10 x=1.9949097477571616 y=0.400611243354449\n",
      "iteration=11 x=1.998091868716567 y=0.400611243354449\n",
      "iteration=12 x=1.998091868716567 y=0.40022903393147913\n",
      "iteration=13 x=1.9992845505793713 y=0.40022903393147913\n",
      "iteration=14 x=1.9992845505793713 y=0.40008586211625663\n",
      "iteration=15 x=1.999731720476979 y=0.40008586211625663\n",
      "iteration=16 x=1.999731720476979 y=0.40003219469412865\n",
      "iteration=17 x=1.9998993971476058 y=0.40003219469412865\n",
      "iteration=18 x=1.9998993971476058 y=0.40001207250421084\n",
      "iteration=19 x=1.9999622742071335 y=0.40001207250421084\n",
      "iteration=20 x=1.9999622742071335 y=0.4000045271179152\n",
      "iteration=21 x=1.9999858528665935 y=0.4000045271179152\n",
      "iteration=22 x=1.9999858528665935 y=0.400001697659211\n",
      "iteration=23 x=1.9999946948304455 y=0.400001697659211\n",
      "iteration=24 x=1.9999946948304455 y=0.4000006366207968\n",
      "iteration=25 x=1.9999980105621866 y=0.4000006366207968\n",
      "iteration=26 x=1.9999980105621866 y=0.40000023873260093\n",
      "iteration=27 x=1.9999992539609281 y=0.40000023873260093\n",
      "iteration=28 x=1.9999992539609281 y=0.40000008952469757\n",
      "iteration=29 x=1.9999997202353632 y=0.40000008952469757\n",
      "iteration=30 x=1.9999997202353632 y=0.4000000335717577\n",
      "iteration=31 x=1.9999998950882634 y=0.4000000335717577\n",
      "iteration=32 x=1.9999998950882634 y=0.4000000125894086\n",
      "iteration=33 x=1.999999960658099 y=0.4000000125894086\n",
      "iteration=34 x=1.999999960658099 y=0.4000000047210282\n",
      "iteration=35 x=1.9999999852467871 y=0.4000000047210282\n",
      "iteration=36 x=1.9999999852467871 y=0.4000000017703856\n",
      "iteration=37 x=1.999999994467545 y=0.4000000017703856\n",
      "iteration=38 x=1.999999994467545 y=0.4000000006638946\n",
      "iteration=39 x=1.9999999979253293 y=0.4000000006638946\n",
      "iteration=40 x=1.9999999979253293 y=0.4000000002489605\n",
      "iteration=41 x=1.9999999992219983 y=0.4000000002489605\n",
      "iteration=42 x=1.9999999992219983 y=0.4000000000933602\n",
      "iteration=43 x=1.9999999997082494 y=0.4000000000933602\n",
      "iteration=44 x=1.9999999997082494 y=0.4000000000350101\n",
      "iteration=45 x=1.9999999998905935 y=0.4000000000350101\n",
      "iteration=46 x=1.9999999998905935 y=0.4000000000131288\n",
      "iteration=47 x=1.9999999999589726 y=0.4000000000131288\n",
      "iteration=48 x=1.9999999999589726 y=0.4000000000049233\n",
      "iteration=49 x=1.9999999999846145 y=0.4000000000049233\n",
      "iteration=50 x=1.9999999999846145 y=0.40000000000184627\n",
      "iteration=51 x=1.9999999999942304 y=0.40000000000184627\n",
      "iteration=52 x=1.9999999999942304 y=0.40000000000069236\n",
      "iteration=53 x=1.9999999999978364 y=0.40000000000069236\n",
      "iteration=54 x=1.9999999999978364 y=0.40000000000025965\n",
      "iteration=55 x=1.9999999999991884 y=0.40000000000025965\n",
      "iteration=56 x=1.9999999999991884 y=0.4000000000000974\n",
      "iteration=57 x=1.9999999999996956 y=0.4000000000000974\n",
      "iteration=58 x=1.9999999999996956 y=0.40000000000003655\n",
      "iteration=59 x=1.9999999999998856 y=0.40000000000003655\n",
      "iteration=60 x=1.9999999999998856 y=0.40000000000001373\n",
      "iteration=61 x=1.9999999999999571 y=0.40000000000001373\n",
      "iteration=62 x=1.9999999999999571 y=0.40000000000000513\n",
      "iteration=63 x=1.9999999999999838 y=0.40000000000000513\n",
      "iteration=64 x=1.9999999999999838 y=0.40000000000000197\n",
      "iteration=65 x=1.9999999999999938 y=0.40000000000000197\n",
      "iteration=66 x=1.9999999999999938 y=0.40000000000000074\n",
      "iteration=67 x=1.9999999999999976 y=0.40000000000000074\n",
      "iteration=68 x=1.9999999999999976 y=0.4000000000000003\n",
      "iteration=69 x=1.999999999999999 y=0.4000000000000003\n",
      "iteration=70 x=1.999999999999999 y=0.40000000000000013\n",
      "iteration=71 x=1.9999999999999996 y=0.40000000000000013\n",
      "iteration=72 x=1.9999999999999996 y=0.4000000000000001\n",
      "iteration=73 x=1.9999999999999998 y=0.4000000000000001\n",
      "iteration=74 x=1.9999999999999998 y=0.4\n"
     ]
    }
   ],
   "source": [
    "\n",
    "\"\"\"\n",
    "Program: ex6.12_glycolysis\n",
    "Purpose: Practice relaxation method for two variables\n",
    "Does it work?: Yes\n",
    "Other information: \n",
    "    \n",
    "    part b) After some trial and error found the solution converges for functions f3 and g2\n",
    "    x = 2.0, y=0.4\n",
    "\"\"\"\n",
    "\n",
    "from math import sqrt\n",
    "\n",
    "# define f3 \n",
    "def f3(x,a):\n",
    "    return x/(a+x**2)\n",
    "\n",
    "#define g2\n",
    "def g2(y,a,b):\n",
    "    return sqrt( (b-a*y)/y)\n",
    "\n",
    "\n",
    "#initialize guess for x\n",
    "x = 1\n",
    "    \n",
    "#initialize guess for y\n",
    "y = 1\n",
    "\n",
    "\n",
    "# set a,b\n",
    "a=1\n",
    "b=2\n",
    "\n",
    "# set maximum number of iterations\n",
    "N=75\n",
    "\n",
    "for i in range(N):\n",
    "    x, y = g2(y,a,b), f3(x,a)\n",
    "    print (\"iteration={} x={} y={}\".format(i,x,y))"
   ]
  },
  {
   "cell_type": "markdown",
   "metadata": {},
   "source": [
    "Now the roots do converge at $x=2$ and $y=0.4$\n",
    "\n",
    "We can verify by substituting into the equations in part a:\n",
    "\n",
    "$x=b=2$\n",
    "\n",
    "$\n",
    "y=\\frac{b}{a+b^2} = \\frac{2}{1+2^2} = 0.4\n",
    "$\n",
    "\n",
    "So verified. "
   ]
  },
  {
   "attachments": {
    "exercise_6.14.PNG": {
     "image/png": "[encoded data removed]"
    }
   },
   "cell_type": "markdown",
   "metadata": {},
   "source": [
    "**Exercise 6.14**\n",
    "\n",
    "Consider a square potential well of width $w$, with walls of height $V$:\n",
    "\n",
    "![exercise_6.14.PNG](attachment:exercise_6.14.PNG)\n",
    "\n",
    "\n",
    "Using Schrodinger's equation, it can be shown that the allowed\n",
    "energies $E$ of a single quantum particle of mass $m$ trapped in the well\n",
    "are solutions of\n",
    "\n",
    "$$\n",
    "\\tan \\sqrt{\\frac{w^2mE}{2\\hbar^2}} = \\left\\lbrace\\begin{array}{ll}\n",
    "  \\sqrt{\\frac{V-E}{E}} & \\text{for the even numbered states,} \\\\\n",
    "  -\\sqrt{\\frac{E}{V-E}} & \\text{for the odd numbered states,}\n",
    "\\end{array}\\right.\n",
    "$$\n",
    "\n",
    "where the states are numbered starting from 0, with the ground state being\n",
    "state 0, the first excited state being state 1, and so forth.\n",
    "\n",
    "**a)**\n",
    "\n",
    "For an electron (mass $9.1094 \\times 10^{-31}$ kg) in a well with $V = 20$ eV and $w = 1$ nm, write a Python program to plot the three quantities.\n",
    "\n",
    "\n",
    "$$\n",
    "y_1 = \\tan \\sqrt{w^2mE/2\\hbar^2},\\qquad\n",
    "y_2 = \\sqrt{V-E\\over E},\\qquad\n",
    "y_3 = -\\sqrt{E\\over V-E},\n",
    "$$\n",
    "\n",
    "on the same graph, as a function of $E$ from $E=0$ to $E=20\\,$eV.  From\n",
    "your plot make approximate estimates of the energies of the first six\n",
    "energy levels of the particle.  Hint: Zoom into your plot about y=0. \n"
   ]
  },
  {
   "cell_type": "code",
   "execution_count": 66,
   "metadata": {},
   "outputs": [
    {
     "data": {
      "text/plain": [
       "(-20.0, 20.0)"
      ]
     },
     "execution_count": 66,
     "metadata": {},
     "output_type": "execute_result"
    },
    {
     "data": {
      "image/png": "[encoded data removed]",
      "text/plain": [
       "<Figure size 432x288 with 1 Axes>"
      ]
     },
     "metadata": {
      "needs_background": "light"
     },
     "output_type": "display_data"
    }
   ],
   "source": [
    "\"\"\"\n",
    "Program: ex6.14_electron_energies\n",
    "Purpose: Practice using binary search to estimate energy levels of an electron in a square well\n",
    "Does it work?: Yes\n",
    "Other information: \n",
    "    \n",
    "    Zoom in around y=0 to see points of intersection.\n",
    "\"\"\"\n",
    "\n",
    "import numpy as np\n",
    "import matplotlib.pyplot as plt\n",
    "import scipy.constants as constants\n",
    "import sys\n",
    "\n",
    "# define function y1\n",
    "def y1(w,E):\n",
    "    return np.tan(np.sqrt(w**2*m*E/(2*hbar**2)))\n",
    "\n",
    "#define function y2\n",
    "def y2(V,E):\n",
    "    return np.sqrt( (V-E)/E )\n",
    "\n",
    "# define function y3\n",
    "def y3(V,E):\n",
    "    return -np.sqrt( E/(V-E) )\n",
    "\n",
    "   \n",
    "# Main body\n",
    "\n",
    "# define constants\n",
    "m = constants.m_e # electron mass, kg\n",
    "hbar = constants.hbar  # hbar, Js\n",
    "\n",
    "#define depth of potential well\n",
    "eV = constants.physical_constants[\"electron volt\"][0]\n",
    "V = 20 # V in eV\n",
    "V *= eV # convert potential to J\n",
    "\n",
    "#define width of well, m\n",
    "w=1e-9\n",
    "\n",
    "# define range of E, from 0 to 20eV but in units of J\n",
    "# Define deltaE to avoid divide by zero errors at endpoints\n",
    "deltaE = 0.001\n",
    "E = eV*np.linspace(0+deltaE,20-deltaE,1000)\n",
    "    \n",
    "# plot the y1,y2,y3\n",
    "plt.plot (E/eV, y1(w,E), '-', label=\"y1\")\n",
    "plt.plot (E/eV, y2(V,E), '-', label=\"y2 (even)\")\n",
    "plt.plot (E/eV, y3(V,E), '-', label=\"y3 (odd)\")\n",
    "plt.xlabel(\"E (eV)\")\n",
    "plt.legend()\n",
    "plt.title\n",
    "plt.ylim(-20,20)"
   ]
  },
  {
   "cell_type": "markdown",
   "metadata": {},
   "source": [
    "**Type estimates of energy here**\n",
    "\n",
    "We are looking for points of intersection between $y1$ and both $y2$ and $y3$ since these are values of $E$ that satisfy the equation.\n",
    "\n",
    "Exclude the points of discontinuity since the tan function doesn't pass through these points.\n",
    "\n",
    "Visual inspection of plot shows points of intersection at roughly: \n",
    "\n",
    "0.2 (even), 1 (odd), 2.8 (even), 5.1 (odd), 8.5(even), 11(odd), 15(even), and 19(odd) eV."
   ]
  },
  {
   "cell_type": "markdown",
   "metadata": {},
   "source": [
    "**b)** Write a second program to calculate the values of the first six\n",
    "  energy levels in electron volts to an accuracy of $0.001\\,$eV using\n",
    "  binary search. Have your program output the 6 values in units of eV.  Hint. Zoom into your plot to define appropriate initial intervals.\n",
    " \n",
    "**Answer**\n",
    "\n",
    "To use binary search write the even and odd equations as:\n",
    "\n",
    "**Even**\n",
    "$$\n",
    "\\tan{\\sqrt{\\frac{w^2 mE}{2\\hbar^2}}} - \\sqrt{\\frac{V-E}{E}} = 0\n",
    "$$\n",
    "\n",
    "**Odd**\n",
    "$$\n",
    "\\tan{\\sqrt{\\frac{w^2 mE}{2\\hbar^2}}} + \\sqrt{\\frac{E}{V-E}} = 0\n",
    "$$\n"
   ]
  },
  {
   "cell_type": "code",
   "execution_count": 67,
   "metadata": {},
   "outputs": [
    {
     "name": "stdout",
     "output_type": "stream",
     "text": [
      "E1 is at energy 0.318 eV.\n",
      "E2 is at energy 1.270 eV.\n",
      "E3 is at energy 2.851 eV.\n",
      "E4 is at energy 5.050 eV.\n",
      "E5 is at energy 7.850 eV.\n",
      "E6 is at energy 11.215 eV.\n",
      "E7 is at energy 15.071 eV.\n",
      "E8 is at energy 19.134 eV.\n"
     ]
    }
   ],
   "source": [
    "# Part b use binary search to look for roots of even and odd functions\n",
    "\n",
    "#define function for even and odd states\n",
    "def f(w,V,E,even):\n",
    "    if even==1:\n",
    "        return np.tan(np.sqrt(w**2*m*E/(2*hbar**2))) - np.sqrt( (V-E)/E )\n",
    "    else:\n",
    "         return np.tan(np.sqrt(w**2*m*E/(2*hbar**2))) + np.sqrt( E/(V-E) )\n",
    "\n",
    "\n",
    "#define binary search function \n",
    "#Arguments:\n",
    "#     E1, E2 = energy interval(J)\n",
    "#     w = potential well width (J)\n",
    "#     V = potential well depth (V)\n",
    "#     even = flag to use either even function (1) or odd\n",
    "def binarysearch(E1, E2, w, V, even):\n",
    "    \n",
    "    # define target error\n",
    "    epsilon = 0.001*eV\n",
    "    error = 9999.\n",
    "    # evaluate function at bracket points E1, E2\n",
    "    f1 = f(w,V,E1,even)\n",
    "    f2 = f(w,V,E2,even)\n",
    "    \n",
    "    # perform binary search if f1, f2 have different signs\n",
    "    if (f1*f2<0):\n",
    "        # continue searching until interval is smaller than target error\n",
    "        while error>epsilon:\n",
    "            # calcualate midpt of interval\n",
    "            x = (E1+E2)/2\n",
    "            # evaluate function at midpt\n",
    "            fx = f(w,V,x,even)\n",
    "            # if fx and f1 have different signs set E2=x, otherwise E1=x\n",
    "            if f1*fx<0:\n",
    "                E2=x\n",
    "            else:\n",
    "                E1=x\n",
    "            # calculate error\n",
    "            error = abs(E2-E1)\n",
    "            # update f1 for possible new E1\n",
    "            f1 = f(w,V,E1,even)\n",
    "            \n",
    "    else:\n",
    "        print(\"The root does not lie between E1={} and E2={} eV. Exiting.\".format(E1/eV,E2/eV))\n",
    "        sys.exit()\n",
    "\n",
    "    # return midpoint of last interval\n",
    "    return (E2+E1)/2         \n",
    "        \n",
    "\n",
    "\n",
    "# Peform binary search to find first six energy levels.\n",
    "# I pass energy interval in units of J and convert returned root back to eV.\n",
    "# The last argument in binary search is a flag to use either even(=1) or odd function. \n",
    "print(\"E1 is at energy {:.3f} eV.\".format(binarysearch(0.01*eV,0.35*eV,w, V, 1)/eV))\n",
    "print(\"E2 is at energy {:.3f} eV.\".format(binarysearch(0.5*eV,1.5*eV,w, V, 0)/eV))\n",
    "print(\"E3 is at energy {:.3f} eV.\".format(binarysearch(2.0*eV,3.0*eV,w, V, 1)/eV))\n",
    "print(\"E4 is at energy {:.3f} eV.\".format(binarysearch(4.0*eV,6.0*eV,w, V, 0)/eV))\n",
    "print(\"E5 is at energy {:.3f} eV.\".format(binarysearch(7.0*eV,9.0*eV,w, V, 1)/eV))\n",
    "print(\"E6 is at energy {:.3f} eV.\".format(binarysearch(10.0*eV,12.0*eV,w, V, 0)/eV))\n",
    "print(\"E7 is at energy {:.3f} eV.\".format(binarysearch(15.0*eV,17.0*eV,w, V, 1)/eV))\n",
    "print(\"E8 is at energy {:.3f} eV.\".format(binarysearch(18.5*eV,19.5*eV,w, V, 0)/eV))\n",
    "\n"
   ]
  },
  {
   "cell_type": "markdown",
   "metadata": {},
   "source": [
    "**Exercise 6.16**\n",
    "\n",
    "There is a magical point between the Earth and the Moon, called the $L_1$ Lagrange point, at which a satellite will orbit the Earth in perfect synchrony with the Moon, staying always in between the two.  This works because the inward pull of the Earth and the outward pull of the Moon combine to create exactly the needed centripetal force that keeps the satellite in its orbit. Check your textbook for a diagram of the setup.\n",
    "\n",
    "**a)** Assuming circular orbits, and assuming that the Earth is much more massive than either the Moon or the satellite, show that the distance $r$ from the center of the Earth to the $L_1$ point satisfies\n",
    "\n",
    "\\begin{equation*}\n",
    "{GM\\over r^2} - {Gm\\over(R-r)^2} = \\omega^2 r,\n",
    "\\end{equation*}\n",
    "\n",
    "where $M$ and $m$ are the Earth and Moon masses, $G$ is Newton's\n",
    "gravitational constant, and $\\omega$ is the angular velocity of both the\n",
    "Moon and the satellite."
   ]
  },
  {
   "cell_type": "markdown",
   "metadata": {},
   "source": [
    "**Solution**\n",
    "\n",
    "\n",
    "\n",
    "$R$ = distance between centers of mass of Earth and moon\n",
    "\n",
    "$r$ = distance from center of mass of Earth and satellite\n",
    "\n",
    "$m_s$ = mass of satellite\n",
    "\n",
    "$M$ = mass of earth\n",
    "\n",
    "$m$ = mass of moon\n",
    "\n",
    "At $L_1$, sum of forces on satellite = centripetal force on satellite\n",
    "\n",
    "$$\n",
    "\\sum_iF_i = \\frac{GMm_s}{r^2}-\\frac{Gmm_s}{(R-r)^2} = m_s\\omega^2 r\n",
    "$$\n",
    "\n",
    "Canceling out $m_s$:\n",
    "\n",
    "$$\n",
    "\\boxed{\\frac{GM}{r^2}-\\frac{Gm}{(R-r)^2} = \\omega^2 r}\n",
    "$$\n",
    "\n",
    "To use Newton's method, move all terms to one side of equation and define function:\n",
    "\n",
    "$$\n",
    "f(r) = 0\n",
    "$$\n",
    "\n",
    "where:\n",
    "\n",
    "$$\n",
    "f(r) = \\frac{GM}{r^2}-\\frac{Gm}{(R-r)^2} - \\omega^2 r\n",
    "$$\n",
    "\n",
    "The derivative is:\n",
    "\n",
    "$$\n",
    "f'(r) = \\frac{-2GM}{r^3} - \\frac{2Gm}{(R-r)^3} - \\omega^2\n",
    "$$"
   ]
  },
  {
   "cell_type": "markdown",
   "metadata": {},
   "source": [
    "**b)** The equation above is a fifth-order polynomial equation in $r$ (also called a quintic equation).  Such equations cannot be solved exactly in closed form, but it's straightforward to solve them numerically.  Write a program that uses Newton's method to solve for the distance $r$ from the Earth to the $L_1$ point.  Compute a solution accurate to at least four significant figures.\n",
    "\n",
    "  The values of the various parameters are:\n",
    "\\begin{align*}\n",
    "G &= 6.674\\times10^{-11}\\,\\mathrm{m}^3\\mathrm{kg}^{-1}\\mathrm{s}^{-2}, \\\\\n",
    "M &= 5.974\\times10^{24}\\,\\mathrm{kg}, \\\\\n",
    "m &= 7.348\\times10^{22}\\,\\mathrm{kg}, \\\\\n",
    "R &= 3.844\\times10^8\\,\\mathrm{m}, \\\\\n",
    "\\omega &= 2.662\\times10^{-6}\\,\\mathrm{s}^{-1}.\n",
    "\\end{align*}\n",
    "You will also need to choose a suitable starting value for $r$. Think about what value r should be. "
   ]
  },
  {
   "cell_type": "code",
   "execution_count": 68,
   "metadata": {},
   "outputs": [
    {
     "name": "stdout",
     "output_type": "stream",
     "text": [
      "The Lagrange point lies at 3.26045e+08 +/- 0.03359 m.\n",
      "The solution was found after 5 iterations.\n"
     ]
    }
   ],
   "source": [
    "\"\"\"\n",
    "Program: ex6.15_the_lagrange_point\n",
    "Purpose: Practice using Newton's method by calculating the radius of the Lagrange point\n",
    "Does it work?: yes\n",
    "Other information: \n",
    "\"\"\"\n",
    "\n",
    "\n",
    "import numpy as np\n",
    "import matplotlib.pyplot as plt\n",
    "\n",
    "\n",
    "# define constants\n",
    "G = 6.674e-11 # m3 kg-1 s-2\n",
    "M = 5.974e24 # earth's mass, kg\n",
    "m = 7.348e22 # moons's mass, kg\n",
    "R = 3.844e8 # distance from earth to L1, m\n",
    "omega = 2.662e-6 # rotational velocity of satellite at L1, s-1\n",
    "\n",
    "# def function\n",
    "def f(r):\n",
    "    return G*M/r**2 - G*m/(R-r)**2 - omega**2*r\n",
    "\n",
    "# def derivative\n",
    "def fp(r):\n",
    "    return -2*G*M/r**3 - 2*G*m/(R-r)**3 - omega**2\n",
    "\n",
    "#plot the function\n",
    "# define range of r, m\n",
    "#r = np.arange(8,9,0.01)\n",
    "#r = 10**r\n",
    "#r = np.linspace(3.75e8,4e8,1000)\n",
    "    \n",
    "# plot  \n",
    "#plt.plot(r, f(r))\n",
    " \n",
    "#plt.xlabel(\"r, m\")\n",
    "#plt.xscale(\"log\")\n",
    "#plt.yscale(\"log\")\n",
    "#plt.ylim(-0.5e14,0.5e14)\n",
    " \n",
    " \n",
    "\n",
    "# choose an initial estimate\n",
    "x = 3e8 # m, choose close to the moon\n",
    "\n",
    "# choose target accuracy\n",
    "epsilon = 1e3\n",
    "\n",
    "# initialize error\n",
    "error = 1e10\n",
    "\n",
    "# keep track of iterations\n",
    "i = 0\n",
    "\n",
    "while error > epsilon:\n",
    "    i += 1\n",
    "    xp = x-f(x)/fp(x)\n",
    "    error = abs(xp-x)\n",
    "    x = xp\n",
    "    \n",
    "    \n",
    "print(\"The Lagrange point lies at {:.5e} +/- {:.5f} m.\".format(xp,error))\n",
    "print(\"The solution was found after {} iterations.\".format(i))"
   ]
  },
  {
   "cell_type": "markdown",
   "metadata": {},
   "source": [
    "**Exercise 6.18**\n",
    "\n",
    "An incandescent light bulb is a simple device---it contains a filament, usually made of tungsten, heated by the flow of electricity until it becomes hot enough to radiate thermally.  Essentially all of the power consumed by such a bulb is radiated as electromagnetic energy, but some of the radiation is not in the visible wavelengths, which means it is useless\n",
    "for lighting purposes.\n",
    "\n",
    "Let us define the efficiency of a light bulb to be the fraction of the radiated energy that falls in the visible band.  It's a good approximation to assume that the radiation from a filament at temperature $T$ obeys the Planck radiation law, meaning that the power radiated per unit wavelength $\\lambda$ obeys\n",
    "\n",
    "\\begin{equation*}\n",
    "  I(\\lambda) = 2\\pi A hc^2 {\\lambda^{-5}\\over e^{hc/\\lambda k_BT}-1},\n",
    "\\end{equation*}\n",
    "\n",
    "where $A$ is the surface area of the filament, $h$ is Planck's constant, $c$ is the speed of light, and $k_B$ is Boltzmann's constant.  The visible wavelengths run from $\\lambda_1=390\\,$nm to $\\lambda_2=750\\,$nm, so the total energy radiated in the visible window is $\\int_{\\lambda_1}^{\\lambda_2} I(\\lambda)\\> d\\lambda$ and the total energy at all wavelengths is $\\int_0^\\infty I(\\lambda)\\> d\\lambda$.  Dividing one expression by the other and substituting for $I(\\lambda)$ from above, we\n",
    "get an expression for the efficiency $\\eta$ of the light bulb thus:\n",
    "\n",
    "\\begin{equation*}\n",
    "\\eta = {\\int_{\\lambda_1}^{\\lambda_2} \\lambda^{-5}/(e^{hc/\\lambda\n",
    "        k_BT}-1) \\> d\\lambda\\over\n",
    "        \\int_0^\\infty \\lambda^{-5}/(e^{hc/\\lambda k_BT}-1) \\> d\\lambda},\n",
    "\\end{equation*}\n",
    "\n",
    "where the leading constants and the area $A$ have canceled out.  Making the substitution $x=hc/\\lambda k_BT$, this can also be written as\n",
    "\n",
    "\\begin{equation*}\n",
    "\\eta = {\\int_{hc/\\lambda_2 k_BT}^{hc/\\lambda_1 k_BT} x^3/(e^x-1) \\> d x\n",
    "        \\over \\int_0^\\infty x^3/(e^x-1) \\> d x}\n",
    "     = {15\\over\\pi^4}\n",
    "       \\int_{hc/\\lambda_2 k_BT}^{hc/\\lambda_1 k_BT}\n",
    "       {x^3\\over e^x-1} \\> d x,\n",
    "\\end{equation*}\n",
    "\n",
    "where we have made use of the known exact value of the integral in the\n",
    "denominator.\n",
    "\n",
    "**a)** Write a Python function that takes a temperature $T$ as its argument and calculates the value of $\\eta$ for that temperature from the formula above.  The integral in the formula cannot be done analytically, but you can do it numerically using any method of your choice.  (For instance, Gaussian quadrature with 100 sample points works fine.)  Use your function to make a graph of $\\eta$ as a function of temperature between $300\\,$K and $10\\,000\\,$K.  You should see that there is an intermediate temperature where the efficiency is a maximum."
   ]
  },
  {
   "cell_type": "code",
   "execution_count": 69,
   "metadata": {},
   "outputs": [
    {
     "data": {
      "text/plain": [
       "Text(0, 0.5, 'Efficiency $\\\\eta$')"
      ]
     },
     "execution_count": 69,
     "metadata": {},
     "output_type": "execute_result"
    },
    {
     "data": {
      "image/png": "[encoded data removed]",
      "text/plain": [
       "<Figure size 432x288 with 1 Axes>"
      ]
     },
     "metadata": {
      "needs_background": "light"
     },
     "output_type": "display_data"
    }
   ],
   "source": [
    "\"\"\"\n",
    "Program: ex6.18_temperature_of_a_light_bulb\n",
    "Purpose: Practice the golden ratio method to find the maximum efficiency of a light bulb\n",
    "Does it work?: Yes\n",
    "Other information: \n",
    "    \n",
    "    * Use np.expm1() to avoid divide by errow when using gaussian quad\n",
    "    * Use formula to calculate z (eq 6.115) not approximate value\n",
    "    * can return -eta to calculate minimum, otherwise need different logic to calculate maximum\n",
    "    * max efficiency is 0.4517 at T=6928.49 +/- 0.0692 K. Exact values are sensitive to constants. \n",
    "\"\"\"\n",
    "\n",
    "import numpy as np\n",
    "import matplotlib.pyplot as plt\n",
    "from gaussxw import gaussxwab\n",
    "import scipy.constants as constants\n",
    "import sys\n",
    "\n",
    "\n",
    "# define function to calculate efficiency eta for a given temperature T\n",
    "def eta(T):\n",
    "    # define integrand\n",
    "    def f(x):\n",
    "        return x**3/np.expm1(x)\n",
    "    # define range of visible wavelengths\n",
    "    lambda1 = 390e-9 # m\n",
    "    lambda2 = 750e-9 # m\n",
    "    a = (h*c)/(lambda2*kB*T)\n",
    "    b = (h*c)/(lambda1*kB*T)\n",
    "    N = 100 # Gaussian quadrature sampling points, this should be enough\n",
    "    # calculate sampling points, weights for GQ and map to integration interval\n",
    "    x,w = gaussxwab(N,a,b)\n",
    "    I = 0\n",
    "    for k in range(N):\n",
    "        I += w[k]*f(x[k])\n",
    "        \n",
    "    return (15/np.pi**4)*I\n",
    "\n",
    "\n",
    "# Main body\n",
    "\n",
    "\n",
    "# Part a) Plot eta vs. T\n",
    "\n",
    "# define constants. These are available to the function eta() namespace\n",
    "h = constants.h     # Planck's constant\n",
    "c = constants.c     # speed of light\n",
    "kB = constants.k    # Boltzmann constant\n",
    "\n",
    "# create an array of temperatures (K) to sample eta\n",
    "Tvalues = np.linspace(300,10000, 500)\n",
    "# calculate efficiency at each T\n",
    "etas = np.array(list(map(eta, Tvalues)))\n",
    "\n",
    "# plot eta vs. T\n",
    "plt.plot(Tvalues, etas)\n",
    "plt.xlabel(\"Temperature, K\")\n",
    "plt.ylabel(\"Efficiency $\\eta$\")"
   ]
  },
  {
   "cell_type": "markdown",
   "metadata": {},
   "source": [
    "**b)** Calculate the temperature of maximum efficiency of the light bulb to within $1\\,$K using golden ratio search.  (Hint: An accuracy of $1\\,$K is the equivalent of a few parts in ten thousand in this case.  To get this kind of accuracy in your calculation you'll need to use values for the fundamental constants that are suitably accurate, i.e., you will need values accurate to several significant figures.)"
   ]
  },
  {
   "cell_type": "code",
   "execution_count": 70,
   "metadata": {},
   "outputs": [
    {
     "name": "stdout",
     "output_type": "stream",
     "text": [
      "The maximum efficiency eta=0.4517 occurs at T=6928.49 +/- 0.6923K.\n"
     ]
    }
   ],
   "source": [
    "# part b Use golden ratio to determine temperature of maximum efficiency\n",
    "# Note can either find the maximum of the eta vs. T plot, or find the minimum of the -etas vs. T.\n",
    "# Here I redefine the eta function to return -eta, so find the minimum.\n",
    "\n",
    "# define function to calculate efficiency eta for a given temperature T\n",
    "def eta(T):\n",
    "    # define integrand\n",
    "    def f(x):\n",
    "        return x**3/np.expm1(x)\n",
    "    # define range of visible wavelengths\n",
    "    lambda1 = 390e-9 # m\n",
    "    lambda2 = 750e-9 # m\n",
    "    a = (h*c)/(lambda2*kB*T)\n",
    "    b = (h*c)/(lambda1*kB*T)\n",
    "    N = 100 # Gaussian quadrature sampling points, this should be enough\n",
    "    # calculate sampling points, weights for GQ and map to integration interval\n",
    "    x,w = gaussxwab(N,a,b)\n",
    "    I = 0\n",
    "    for k in range(N):\n",
    "        I += w[k]*f(x[k])\n",
    "        \n",
    "    return -(15/np.pi**4)*I\n",
    "\n",
    "# define golden ratio\n",
    "z = (1+np.sqrt(5))/2\n",
    "\n",
    "# define target error\n",
    "target = 1. # K\n",
    "\n",
    "#Choose initial outer points to bracket the minimum or maximum \n",
    "x1 = 4000.\n",
    "x4 = 8000.\n",
    "error = x4-x1\n",
    "\n",
    "#Calculate the inner points x2 and x3 using the golden ratio.  \n",
    "# Solve equations 6.111 and 6.113\n",
    "x3 = x1 + (x4-x1)/z\n",
    "x2 = x1 + (x4-x3) \n",
    "\n",
    "# Evaluate the function at each of the four points. \n",
    "eta1=eta(x1)\n",
    "eta2=eta(x2)\n",
    "eta3=eta(x3)\n",
    "eta4=eta(x4)\n",
    "\n",
    "# At least one of the inner points must fall below both f(1) and f(4). \n",
    "# If not, the method fails, and you will have to choose new outer points\n",
    "if (eta2<eta1 and eta2<eta4) or (eta3<eta1 and eta3<eta4):\n",
    "    while error>target:\n",
    "        # Next compare f(2) and f(3). If f(2)>f(3), set new points \n",
    "        if eta(x2)>eta(x3):\n",
    "            x1 = x2\n",
    "            x2 = x3\n",
    "            x3 = x4-(x2-x1) \n",
    "        else:\n",
    "            x4 = x3\n",
    "            x3 = x2\n",
    "            x2 = x1 + (x4-x3)\n",
    "        error = abs(x4-x1)\n",
    "else:\n",
    "    print(\"Inner points are not less than outer points. Exiting.\")\n",
    "    sys.exit()\n",
    "\n",
    "# Final extremum falls at midpoint of last interval\n",
    "Tmax = 0.5*(x2+x3)\n",
    "print(\"The maximum efficiency eta={:.4f} occurs at T={:.2f} +/- {:.4f}K.\".format(-1*eta(Tmax), Tmax,error))"
   ]
  },
  {
   "cell_type": "markdown",
   "metadata": {},
   "source": [
    "**Exercise 7.2**\n",
    "\n",
    "In the on-line resources there is a file called _sunspots.txt_, which contains the observed number of sunspots on the Sun for each month since January 1749.  The file contains two columns of numbers, the first representing the month and the second being the sunspot number.\n",
    "\n",
    "**a)** Write a program that reads the data in the file and makes a graph of sunspots as a function of time.  You should see that the number of sunspots has fluctuated on a regular cycle for as long as observations have been recorded.  Make an estimate of the length of the cycle in months."
   ]
  },
  {
   "cell_type": "code",
   "execution_count": 71,
   "metadata": {},
   "outputs": [
    {
     "data": {
      "image/png": "[encoded data removed]",
      "text/plain": [
       "<Figure size 432x288 with 1 Axes>"
      ]
     },
     "metadata": {
      "needs_background": "light"
     },
     "output_type": "display_data"
    }
   ],
   "source": [
    "\"\"\"\n",
    "Program: ex7.2_detecting_periodicity\n",
    "Purpose: Practice calculating a DFT on sunspot data\n",
    "Does it work?: Writing\n",
    "Other information: \n",
    "\"\"\"\n",
    "\n",
    "# Calculate DFT for sunspot data\n",
    "\n",
    "import numpy as np\n",
    "from cmath import exp, pi\n",
    "import matplotlib.pyplot as plt\n",
    "import sys\n",
    "\n",
    "\n",
    "# directory path to data file\n",
    "path = \"G:\\\\My Drive\\\\Classes\\\\Ph322\\\\Textbooks\\\\Newman\\\\Programs and Data\\\\Chapter3\\\\\"\n",
    "file = \"sunspots.txt\"\n",
    "\n",
    "# load in the file \n",
    "data = np.loadtxt(path+file)\n",
    "# col 0 contains time in months\n",
    "months = data[:,0]\n",
    "\n",
    "# col 1 contains sunspot data\n",
    "sunspots = data[:,1]\n",
    "\n",
    "#plot sunspots vs month\n",
    "plt.plot(months, sunspots, '-')\n",
    "plt.xlabel(\"Months\")\n",
    "plt.ylabel(\"Number of sunspots\")\n",
    "plt.title(\"Sunspot data\")\n",
    "plt.show()"
   ]
  },
  {
   "cell_type": "markdown",
   "metadata": {},
   "source": [
    "If we zoom in on part of the graph, we can estimate the period of the cycle:"
   ]
  },
  {
   "cell_type": "code",
   "execution_count": 72,
   "metadata": {},
   "outputs": [
    {
     "data": {
      "image/png": "[encoded data removed]",
      "text/plain": [
       "<Figure size 432x288 with 1 Axes>"
      ]
     },
     "metadata": {
      "needs_background": "light"
     },
     "output_type": "display_data"
    }
   ],
   "source": [
    "#plot sunspots vs month\n",
    "plt.plot(months, sunspots, '-')\n",
    "plt.xlabel(\"Months\")\n",
    "plt.ylabel(\"Number of sunspots\")\n",
    "plt.title(\"Sunspot data\")\n",
    "plt.xlim(0,500)\n",
    "plt.show()"
   ]
  },
  {
   "cell_type": "markdown",
   "metadata": {},
   "source": [
    "The period is about 120 months or about 10 years."
   ]
  },
  {
   "cell_type": "markdown",
   "metadata": {},
   "source": [
    "**b)** Modify your program to calculate the Fourier transform of the sunspot data and then make a graph of the magnitude squared $|c_k|^2$ of the Fourier coefficients as a function of $k$---also called the _power spectrum_ of the sunspot signal.  You should see that there is a noticeable peak in the power spectrum at a nonzero value of $k$.  The appearance of this peak tells us that there is one frequency in the Fourier series that has a higher amplitude than the others around it---meaning that there is a large sine-wave term with this frequency, which corresponds to the periodic wave you can see in the original data."
   ]
  },
  {
   "cell_type": "code",
   "execution_count": 73,
   "metadata": {
    "scrolled": true
   },
   "outputs": [
    {
     "data": {
      "text/plain": [
       "(0.0, 200.0)"
      ]
     },
     "execution_count": 73,
     "metadata": {},
     "output_type": "execute_result"
    },
    {
     "data": {
      "image/png": "[encoded data removed]",
      "text/plain": [
       "<Figure size 432x288 with 1 Axes>"
      ]
     },
     "metadata": {
      "needs_background": "light"
     },
     "output_type": "display_data"
    }
   ],
   "source": [
    "# partb) calculate the DFT of the sunspot time series\n",
    "\n",
    "# define function to calculate DFT based on eqn 7.20\n",
    "# y is a 1d array of size N that holds the yn, the function sampled at the sampling points\n",
    "def dft(y):\n",
    "    # get the number of sampled points\n",
    "    N=len(y)\n",
    "    \n",
    "    # since c_k are complex, create a complex array to hold\n",
    "    c = np.zeros([N//2+1],complex)\n",
    "    # calculate c_k for k=0, to N/2+1\n",
    "    for k in range(N//2+1):\n",
    "        for n in range(N):\n",
    "            c[k] += y[n]*exp(-2j*pi*k*n/N)\n",
    "    return c\n",
    "    \n",
    "    \n",
    "    \n",
    "# remove the mean from the sunspot record\n",
    "sunspots -= np.mean(sunspots)\n",
    "\n",
    "# calculate DFT of sunspots\n",
    "c = dft(sunspots)\n",
    "\n",
    "# plot the magnitude-squared of the coefficients\n",
    "plt.plot(abs(c)**2, '-')\n",
    "plt.xlabel(\"k\")\n",
    "plt.ylabel(r\"$c_k$\")\n",
    "plt.title(r\"$|c_k^2|$ of sunspot DFT\")\n",
    "plt.xlim(0,200)\n",
    "\n"
   ]
  },
  {
   "cell_type": "markdown",
   "metadata": {},
   "source": [
    "**c)**  Find the approximate value of $k$ to which the peak corresponds.\n",
    "  What is the period of the sine wave with this value of $k$?  You should\n",
    "  find that the period corresponds roughly to the length of the cycle that\n",
    "  you estimated in part (a)."
   ]
  },
  {
   "cell_type": "markdown",
   "metadata": {},
   "source": [
    "**Answer**\n",
    "\n",
    "We can find the k index of the largest coefficient using the numpy function argmax(). Once we know the argmax of the coefficient, we calculate the period of the associated sine wave as $T=N/k$, where N is the length of the data series."
   ]
  },
  {
   "cell_type": "code",
   "execution_count": 74,
   "metadata": {
    "scrolled": true
   },
   "outputs": [
    {
     "name": "stdout",
     "output_type": "stream",
     "text": [
      "The largest coefficient lies at k=24.\n",
      "This corresponds to a cycle with period 130.96 months or 10.91 years.\n"
     ]
    }
   ],
   "source": [
    "# Find the k index of the largest coefficient and calculate its period\n",
    "\n",
    "kmax = np.argmax(abs(c))\n",
    "T_month = len(sunspots)/kmax # period of largest coefficient, months\n",
    "T_year = T_month/12 # period of largest coefficient, year\n",
    "print(\"The largest coefficient lies at k={}.\".format(kmax))\n",
    "print(\"This corresponds to a cycle with period {:.2f} months or {:.2f} years.\".format(T_month, T_year))\n"
   ]
  },
  {
   "cell_type": "markdown",
   "metadata": {},
   "source": [
    "This roughly agrees with our eyeball estimate above. "
   ]
  }
 ],
 "metadata": {
  "kernelspec": {
   "display_name": "Python 3",
   "language": "python",
   "name": "python3"
  },
  "language_info": {
   "codemirror_mode": {
    "name": "ipython",
    "version": 3
   },
   "file_extension": ".py",
   "mimetype": "text/x-python",
   "name": "python",
   "nbconvert_exporter": "python",
   "pygments_lexer": "ipython3",
   "version": "3.7.3"
  }
 },
 "nbformat": 4,
 "nbformat_minor": 4
}
