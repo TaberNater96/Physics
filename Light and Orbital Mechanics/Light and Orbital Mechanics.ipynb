{
 "cells": [
  {
   "cell_type": "markdown",
   "metadata": {},
   "source": [
    "## Homework 3"
   ]
  },
  {
   "cell_type": "markdown",
   "metadata": {},
   "source": [
    "**Exercise 3.5**\n",
    "\n",
    " The innermost six planets of our solar system revolve around the\n",
    "Sun in roughly circular orbits that all lie approximately in the same\n",
    "(ecliptic) plane.  Check your textbook for a table of some basic parameters. \n",
    "\n",
    "Using *vpython* functions, create an\n",
    "animation of the solar system that shows the following:\n",
    "\n",
    "**a)** The Sun and planets as spheres in their appropriate positions and\n",
    "  with sizes proportional to their actual sizes.  Because the radii of the\n",
    "  planets are tiny compared to the distances between them, represent the\n",
    "  planets by spheres with radii $c_1$ times larger than their correct\n",
    "  proportionate values, so that you can see them clearly.  Find a good\n",
    "  value for $c_1$ that makes the planets visible.  You'll also need to find\n",
    "  a good radius for the Sun.  Choose any value that gives a clear\n",
    "  visualization.  (It doesn't work to scale the radius of the Sun by the\n",
    "  same factor you use for the planets, because it'll come out looking much\n",
    "  too large.  So just use whatever works.)  For added realism, you may also\n",
    "  want to make your spheres different colors.  For instance, Earth could be\n",
    "  blue and the Sun could be yellow.\n",
    "  \n",
    "  **b)** The motion of the planets as they move around the Sun (by making the\n",
    "  spheres of the planets move).  In the interests of alleviating boredom,\n",
    "  construct your program so that time in your animation runs a factor of\n",
    "  $c_2$ faster than actual time.  Find a good value of $c_2$ that makes the\n",
    "  motion of the orbits easily visible but not unreasonably fast.  Make use\n",
    "  of the *rate* function to make your animation run smoothly.\n",
    "  \n",
    "  Hint: You may find it useful to store the sphere variables representing the\n",
    "planets in an array of the kind described on page 115."
   ]
  },
  {
   "cell_type": "code",
   "execution_count": 2,
   "metadata": {},
   "outputs": [
    {
     "data": {
      "text/html": [
       "<div id=\"glowscript\" class=\"glowscript\"></div>"
      ],
      "text/plain": [
       "<IPython.core.display.HTML object>"
      ]
     },
     "metadata": {},
     "output_type": "display_data"
    },
    {
     "data": {
      "application/javascript": "if (typeof Jupyter !== \"undefined\") { window.__context = { glowscript_container: $(\"#glowscript\").removeAttr(\"id\")};}else{ element.textContent = ' ';}",
      "text/plain": [
       "<IPython.core.display.Javascript object>"
      ]
     },
     "metadata": {},
     "output_type": "display_data"
    },
    {
     "data": {
      "application/javascript": "if (typeof Jupyter !== \"undefined\") {require.undef(\"nbextensions/vpython_libraries/glow.min\");}else{element.textContent = ' ';}",
      "text/plain": [
       "<IPython.core.display.Javascript object>"
      ]
     },
     "metadata": {},
     "output_type": "display_data"
    },
    {
     "data": {
      "application/javascript": "if (typeof Jupyter !== \"undefined\") {require.undef(\"nbextensions/vpython_libraries/glowcomm\");}else{element.textContent = ' ';}",
      "text/plain": [
       "<IPython.core.display.Javascript object>"
      ]
     },
     "metadata": {},
     "output_type": "display_data"
    },
    {
     "data": {
      "application/javascript": "if (typeof Jupyter !== \"undefined\") {require.undef(\"nbextensions/vpython_libraries/jquery-ui.custom.min\");}else{element.textContent = ' ';}",
      "text/plain": [
       "<IPython.core.display.Javascript object>"
      ]
     },
     "metadata": {},
     "output_type": "display_data"
    },
    {
     "data": {
      "application/javascript": "if (typeof Jupyter !== \"undefined\") {require([\"nbextensions/vpython_libraries/glow.min\"], function(){console.log(\"GLOW LOADED\");});}else{element.textContent = ' ';}",
      "text/plain": [
       "<IPython.core.display.Javascript object>"
      ]
     },
     "metadata": {},
     "output_type": "display_data"
    },
    {
     "data": {
      "application/javascript": "if (typeof Jupyter !== \"undefined\") {require([\"nbextensions/vpython_libraries/glowcomm\"], function(){console.log(\"GLOWCOMM LOADED\");});}else{element.textContent = ' ';}",
      "text/plain": [
       "<IPython.core.display.Javascript object>"
      ]
     },
     "metadata": {},
     "output_type": "display_data"
    },
    {
     "data": {
      "application/javascript": "if (typeof Jupyter !== \"undefined\") {require([\"nbextensions/vpython_libraries/jquery-ui.custom.min\"], function(){console.log(\"JQUERY LOADED\");});}else{element.textContent = ' ';}",
      "text/plain": [
       "<IPython.core.display.Javascript object>"
      ]
     },
     "metadata": {},
     "output_type": "display_data"
    }
   ],
   "source": [
    "\"\"\"\n",
    "Program: ex3.5_visualization_of_the_solar_system\n",
    "Purpose: Visualize the motion of the inner 6 planets around the Sun to scale\n",
    "Other information: \n",
    "   \n",
    "* The package is vpython not visual\n",
    "* Need to use the vpython function vector to specify position\n",
    "* VPython7 uses function canvas() to set window properties not display()\n",
    "* canvas() uses keyword 'ambient' to set color of foreground objects, not 'foreground'\n",
    "* Create a canvas first before running otherwise console and browser tab freeze/hang\n",
    "* Here I use numpy function rint to convert an array to integers, int function is scalar.\n",
    "\n",
    "\n",
    "\"\"\"\n",
    "\n",
    "from vpython import sphere,rate, vector, canvas, color\n",
    "from math import cos,sin,pi\n",
    "from numpy import empty, array, max, rint, pi\n",
    "\n",
    "\n",
    "# Set size of display window\n",
    "xwidth=600\n",
    "ywidth=500\n",
    "\n",
    "# Draw blank screen. I need this otherwise console freezes.\n",
    "canvas(width=xwidth, height=ywidth)\n",
    "\n",
    "# Scale factor to scale planet radii. This is non-physical but adjusted for visuals\n",
    "c1 = 2000\n",
    "\n",
    "# Create an array to hold the sphere objects\n",
    "planets = empty(6, sphere)\n",
    "\n",
    "# Colors of planets. The color keyword inside the sphere() requires RGB vector\n",
    "# In order, white, yellow, blue, red, orange, white\n",
    "rgb1 = [1,1,0,1,1,1]\n",
    "rgb2 = [1,1,0,0,0.6,1]\n",
    "rgb3 = [1,0,1,0,0,1]\n",
    "\n",
    "# Create array to store initial positions of each planet\n",
    "x_o = empty([6], int)\n",
    "y_o = empty([6], int)\n",
    "\n",
    "# Create array to store radii of each planet, km\n",
    "R = array([2440,6052,6371,3386,69173,57316], float)\n",
    "\n",
    "# Create an array to store orbital radii of each planet, km\n",
    "r = array([57.9e6,108.2e6,149.6e6,227.9e6,778.5e6,1433.4e6], float)\n",
    "\n",
    "# Create an array to store orbital periods, days\n",
    "T = array([88.0,224.7,365.3,687.0,4331.6,10759.2], float)\n",
    "# Calculate angular velocity, rad/day\n",
    "omega = 2*pi/T\n",
    "\n",
    "# Determine grid scale based on radius of largest planet orbit\n",
    "r_max = max(r)\n",
    "# Set scale so largest orbit spans 90% of windows length\n",
    "r_scale = 0.9*xwidth/(2*r_max)\n",
    "\n",
    "# Determine initial position of planets using grid scale. Places planets on right\n",
    "x_o = 0 + rint(r_scale*r)\n",
    "y_o[:] = 0  \n",
    "\n",
    "# Place Sun at center (origin) of window\n",
    "Sun = sphere(pos=vector(0,0,0),radius=7, color=color.yellow)\n",
    "# Draw each planet at initial position. Use c1 to scale the planets radii. So plantet scale is different than orbit scale, \n",
    "# to visualize\n",
    "for p in range(0,6):\n",
    "    planets[p] = sphere(pos=vector(x_o[p], y_o[p], 0), radius=c1*r_scale*R[p], color=vector(rgb1[p], rgb2[p], rgb3[p]))\n",
    "\n",
    "# Specify the number of earth years to run animation\n",
    "nyear = 10\n",
    "# Loop through time, here in unit of days\n",
    "for t in range (0, nyear*365):\n",
    "    # Calculate the angular position of each planet using its angular velocity\n",
    "    theta = omega*t\n",
    "    for p in range(0,6):\n",
    "        # Calculate Cartesian coords of each planet and draw at new position\n",
    "        x = r_scale*r[p]*cos(theta[p])\n",
    "        y = r_scale*r[p]*sin(theta[p])\n",
    "        # Pause 1/120 seconds between frames\n",
    "        rate(120)\n",
    "        planets[p].pos = vector(x, y, 0)"
   ]
  },
  {
   "cell_type": "markdown",
   "metadata": {},
   "source": [
    "**Exercise 4.3**\n",
    "\n",
    "Suppose we have a function $f(x)$ and we want to\n",
    "calculate its derivative at a point $x$.  We can do that with pencil and\n",
    "paper if we know the mathematical form of the function, or we can do it on\n",
    "the computer by making use of the definition of the derivative:\n",
    "\n",
    "\\begin{equation*}\n",
    "{ df\\over dx} = \\lim_{\\delta\\to0} {f(x+\\delta)-f(x)\\over\\delta}.\n",
    "\\end{equation*}\n",
    "\n",
    "On the computer we can't actually take the limit as $\\delta$ goes to\n",
    "zero, but we can get a reasonable approximation just by making $\\delta$\n",
    "small.\n",
    "\n",
    "**a)** Write a program that defines a function _f(x)_ returning the\n",
    "  value $x(x-1)$, then calculates the derivative of the function at the\n",
    "  point $x=1$ using the formula above with $\\delta=10^{-2}$.  \n"
   ]
  },
  {
   "cell_type": "code",
   "execution_count": 3,
   "metadata": {},
   "outputs": [
    {
     "name": "stdout",
     "output_type": "stream",
     "text": [
      "The derivative df/dx is:  1.010000000000001\n"
     ]
    }
   ],
   "source": [
    "\"\"\"\n",
    "Program: ex4.3_calculating_derivatives\n",
    "Purpose: Demonstrates that calculations that produce small differences can have large relative errors. \n",
    "Does it work?: Yes\n",
    "Other information: \n",
    "\"\"\"\n",
    "import numpy as np\n",
    "\n",
    "def function(x):\n",
    "    f = (x*(x-1))\n",
    "    return (f)\n",
    "\n",
    "# Part a: Calculate the derivative at x=1\n",
    "# Answer =   1.010000000000001\n",
    "# Analytic answer = 1\n",
    "  \n",
    "delta = float(input(\"Enter delta: \"))\n",
    "x = float(input(\"Enter x: \"))\n",
    "\n",
    "# Calculate the derivative\n",
    "f_prime = (function(x+delta)-function(x))/delta\n",
    "\n",
    "print(\"The derivative df/dx is: \", f_prime)"
   ]
  },
  {
   "cell_type": "markdown",
   "metadata": {},
   "source": [
    "Calculate the true value of the same derivative analytically and compare with the answer your program gives.  The two will not agree perfectly.  Why not?"
   ]
  },
  {
   "cell_type": "markdown",
   "metadata": {},
   "source": [
    "**Answer**\n",
    "\n",
    "Analytic derivative = 1  \n",
    "Numerical deriviative = 1.010000000000001\n",
    "\n",
    "We're only approximating the derivative using $\\delta=10^{-2}$, not allowing it to go to zero. "
   ]
  },
  {
   "cell_type": "markdown",
   "metadata": {},
   "source": [
    "**b)** Repeat the calculation for $\\delta=10^{-4}$, $10^{-6}$, $10^{-8}$,\n",
    "  $10^{-10}$, $10^{-12}$, and $10^{-14}$.  Have your program output the derivative for each. You should see that the accuracy\n",
    "  of the calculation initially gets better as $\\delta$ gets smaller, but\n",
    "  then gets worse again.  Why is this?"
   ]
  },
  {
   "cell_type": "code",
   "execution_count": null,
   "metadata": {},
   "outputs": [
    {
     "name": "stdout",
     "output_type": "stream",
     "text": [
      "delta = 0.0001 1e-06 1e-08 1e-10 1e-12 1e-14\n",
      "df/dx is = 1.0000999999998899 1.0000009999177333 1.0000000039225287 1.000000082840371 1.0000889005833413 0.9992007221626509\n"
     ]
    }
   ],
   "source": [
    "# Calculate the derivative for different values of delta\n",
    "delta = np.array([1e-4,1e-6,1e-8, 1e-10, 1e-12, 1e-14])\n",
    "f_prime = (function(x+delta)-function(x))/delta\n",
    "\n",
    "print(\"delta = {} {} {} {} {} {}\".format(*delta))\n",
    "print(\"df/dx is = {} {} {} {} {} {}\".format(*f_prime))\n",
    "\n",
    " \n",
    "\n"
   ]
  },
  {
   "cell_type": "markdown",
   "metadata": {},
   "source": [
    " \n",
    "|delta|f'(1)|\n",
    "|:----|-----:|\n",
    "|1e-4|     1.0000999999998899|\n",
    "|1e-6|     1.000000999917733|\n",
    "|1e-8|     1.0000000039225287| \n",
    "|1e-10|    1.000000082840371|\n",
    "|1e-12|    1.0000889005833413|\n",
    "|1e-14|    0.9992007221626509|\n",
    "\n",
    "\n",
    " We see that accuracy actually decreases after delta=1e-8 This is because\n",
    " in the calculation of the derivative we calculate the difference\n",
    " x+delta - 1. When x=1, x+delta ~ 1 so the difference is small. \n",
    " This means the relative error on the difference grows as delta --> 0. The most accurate results is achieved at when $\\delta=10^{-8}$, which is not a coincidence. $10^{-8}$ is the square root of the machine precision or error constant. "
   ]
  },
  {
   "cell_type": "markdown",
   "metadata": {},
   "source": [
    "**Exercise 4.4**\n",
    "\n",
    "Suppose we want to calculate the value of the integral\n",
    "\n",
    "$$\n",
    "I = \\int_{-1}^1 \\sqrt{1-x^2} \\, dx.\n",
    "$$\n",
    "\n",
    "Check your textbook for a visualization of what the integrand looks like.\n",
    "\n",
    "Alternatively, we can evaluate the integral on the computer by dividing the domain of integration into a large number \\(N\\) of slices of width \\(h = \\frac{2}{N}\\) each, and then using the Riemann definition of the integral:\n",
    "\n",
    "$$\n",
    "I = \\lim_{N \\to \\infty} \\sum_{k=1}^N h y_k,\n",
    "$$\n",
    "\n",
    "where\n",
    "\n",
    "$$\n",
    "y_k = \\sqrt{1 - x_k^2}\\qquad\\text{and}\\qquad x_k = -1 + h k.\n",
    "$$\n",
    "\n",
    "We cannot in practice take the limit \\(N \\to \\infty\\), but we can make a reasonable approximation by just making \\(N\\) large.\n",
    "\n",
    "**a)** Write a program to evaluate the integral above with \\(N=100\\) and compare the result with the exact value. The two will not agree very well, because \\(N=100\\) is not a sufficiently large number of slices.\n"
   ]
  },
  {
   "cell_type": "code",
   "execution_count": null,
   "metadata": {},
   "outputs": [
    {
     "name": "stdout",
     "output_type": "stream",
     "text": [
      "Integral = 1.5707963262069677 rel error=3.743e-08% \n"
     ]
    }
   ],
   "source": [
    "\"\"\"\n",
    "Program: ex4.4_calculating_integrals\n",
    "Purpose: Use the Riemann definition of the integral to evaluate an integral. \n",
    "Does it work?: Yes\n",
    "Other information: \n",
    "    \n",
    "\"\"\"\n",
    "\n",
    "from math import sqrt, pi\n",
    "\n",
    "# Part a\n",
    "# N=100, I = 1.5691342555492505\n",
    "# N = 1000, I = 1.570743738501071\n",
    "# N = 1e6, I = 1.5707963251317274\n",
    "# N = 2e6, 1.5707963262069677  takes about 1 second\n",
    "\n",
    "trueI =  pi/2 # 1.57079632679 (from text)\n",
    "\n",
    "N = int(2e6)\n",
    "h = 2/N\n",
    "I = 0\n",
    "\n",
    "# calculate the summation\n",
    "for k in range(N):\n",
    "    x_k = -1 + h*k\n",
    "    y_k = sqrt(1-x_k**2)\n",
    "    I += h*y_k\n",
    "\n",
    "\n",
    "print (\"Integral = {} rel error={:.3e}% \".format(I,100*(trueI-I)/trueI))  "
   ]
  },
  {
   "cell_type": "markdown",
   "metadata": {},
   "source": [
    "Using N=100, integral is 1.5691342555492505.\n",
    "The relative error is: 0.11%"
   ]
  },
  {
   "cell_type": "markdown",
   "metadata": {},
   "source": [
    "**b)** Increase the value of $N$ to get a more accurate value for the\n",
    "  integral.  If we require that the program runs in about one second or\n",
    "  less, how accurate a value can you get?"
   ]
  },
  {
   "cell_type": "markdown",
   "metadata": {},
   "source": [
    "Using N=2e6 takes about 1 second on my computer.   \n",
    "The integral = 1.5707963262069677.  \n",
    "The relative error is 3.743e-08%."
   ]
  },
  {
   "cell_type": "markdown",
   "metadata": {},
   "source": [
    "**Exercise 5.3**\n",
    "\n",
    "Consider the integral\n",
    "\n",
    "\\begin{equation*}\n",
    "E(x) = \\int_0^x e^{-t^2} \\>d t.\n",
    "\\end{equation*}\n",
    "\n",
    "**a)** Write a program to calculate $E(x)$ for values of $x$ from 0 to 3 in\n",
    "  steps of 0.1.  Choose for yourself what method you will use for\n",
    "  performing the integral and a suitable number of slices."
   ]
  },
  {
   "cell_type": "code",
   "execution_count": null,
   "metadata": {},
   "outputs": [
    {
     "name": "stdout",
     "output_type": "stream",
     "text": [
      "x=0.00 E=0.000\n",
      "x=0.10 E=0.100\n",
      "x=0.20 E=0.197\n",
      "x=0.30 E=0.291\n",
      "x=0.40 E=0.380\n",
      "x=0.50 E=0.461\n",
      "x=0.60 E=0.535\n",
      "x=0.70 E=0.601\n",
      "x=0.80 E=0.658\n",
      "x=0.90 E=0.706\n"
     ]
    }
   ],
   "source": [
    "\"\"\"\n",
    "Program: ex5.3_simpsons_rule_II\n",
    "Purpose: Calcluate and Plot the Gaussian error function by integrateing exp(-t^2) \n",
    "Does it work?: Yes\n",
    "Other information: \n",
    "    \n",
    "    The problem says to use either the trapezoidal or Simpson's rule. Here I use SR.\n",
    "    \n",
    "\"\"\"\n",
    "\n",
    "\n",
    "from numpy import arange, exp\n",
    "\n",
    "\n",
    "# define function to return integrand\n",
    "def f(t):\n",
    "    return exp(-t**2)\n",
    "\n",
    "# define function to estimate the integral using Simpson's rule\n",
    "def simpsonsI(b,N):\n",
    "    a = 0\n",
    "    h = (b-a)/N\n",
    "    I = (f(a) + f(b))\n",
    "\n",
    "    for k in range(1, N, 2):\n",
    "        I += 4*f(a+k*h)\n",
    "    \n",
    "    for k in range(2, N, 2):\n",
    "        I += 2*f(a+k*h)\n",
    "\n",
    "    return (1/3)*h*I\n",
    "    \n",
    "# Set the number of slices\n",
    "N = int(1000)\n",
    "\n",
    "#create a series from 0, 3 in steps of 0.1\n",
    "xvalues = arange(0, 3.1, 0.1)\n",
    "\n",
    "# calculate E(x) for each x in xvalues using Simpson's Rule\n",
    "E = simpsonsI(xvalues, N)\n",
    "\n",
    "# print out a sample of 10 values\n",
    "for i in range(10):\n",
    "    print(\"x={:.2f} E={:.3f}\".format(xvalues[i], E[i]))"
   ]
  },
  {
   "cell_type": "markdown",
   "metadata": {},
   "source": [
    "**b)** When you are convinced your program is working, extend it further to\n",
    "  make a graph of $E(x)$ as a function of $x$.  If you want to remind\n",
    "  yourself of how to make a graph, you should consult Section 3.1, starting\n",
    "  on page 88."
   ]
  },
  {
   "cell_type": "code",
   "execution_count": null,
   "metadata": {},
   "outputs": [
    {
     "data": {
      "image/png": "[encoded data removed]",
      "text/plain": [
       "<Figure size 432x288 with 1 Axes>"
      ]
     },
     "metadata": {
      "needs_background": "light"
     },
     "output_type": "display_data"
    }
   ],
   "source": [
    "#Plot E(x) vs x\n",
    "\n",
    "import matplotlib.pyplot as plt\n",
    "\n",
    "plt.plot(xvalues, E)\n",
    "plt.xlabel(\"x\")\n",
    "plt.ylabel(\"E(x)\")\n",
    "plt.show()"
   ]
  },
  {
   "cell_type": "markdown",
   "metadata": {},
   "source": [
    "**Exercise 5.4**\n",
    "\n",
    "Our ability to resolve detail in astronomical observations is\n",
    "limited by the diffraction of light in our telescopes.  Light from stars\n",
    "can be treated effectively as coming from a point source at infinity.  When\n",
    "such light, with wavelength $\\lambda$, passes through the circular aperture\n",
    "of a telescope (which we'll assume to have unit radius) and is focused by\n",
    "the telescope in the focal plane, it produces not a single dot, but a\n",
    "circular diffraction pattern consisting of central spot surrounded by a\n",
    "series of concentric rings.  The intensity of the light in this diffraction\n",
    "pattern is given by\n",
    "\n",
    "\\begin{equation*}\n",
    "I(r) = \\biggl( {J_1(kr)\\over kr} \\biggr)^2,\n",
    "\\end{equation*}\n",
    "\n",
    "where $r$ is the distance in the focal plane from the center of the\n",
    "diffraction pattern, $k=2\\pi/\\lambda$, and $J_1(x)$ is a Bessel function.\n",
    "The Bessel functions $J_m(x)$ are given by\n",
    "\n",
    "\\begin{equation*}\n",
    "J_m(x) = {1\\over\\pi} \\int_0^\\pi \\cos(m\\theta - x\\sin\\theta) \\>d\\theta,\n",
    "\\end{equation*}\n",
    "\n",
    "where $m$ is a nonnegative integer and $x\\ge0$.\n",
    "\n",
    "**a)** Write a Python function _J(m,x)_ that calculates the value of\n",
    "  $J_m(x)$ using Simpson's rule with $N=1000$ points.  Use your\n",
    "  function in a program to make a plot, on a single graph, of the Bessel\n",
    "  functions $J_0$, $J_1$, and $J_2$ as a function of $x$ from $x=0$ to\n",
    "  $x=20$."
   ]
  },
  {
   "cell_type": "code",
   "execution_count": null,
   "metadata": {},
   "outputs": [
    {
     "data": {
      "image/png": "[encoded data removed]",
      "text/plain": [
       "<Figure size 432x288 with 1 Axes>"
      ]
     },
     "metadata": {
      "needs_background": "light"
     },
     "output_type": "display_data"
    }
   ],
   "source": [
    "\"\"\"\n",
    "\n",
    "Program: ex5.4_diffraction_limit_of_a_telescope\n",
    "Purpose: Use Simpson's Rule to evaluate the Bessel function and graph the diffraction pattern of telescope\n",
    "Does it work?: Yes\n",
    "Other information: \n",
    "    \n",
    "\"\"\"\n",
    "\n",
    "\n",
    "import numpy as np\n",
    "import matplotlib.pyplot as plt\n",
    "from math import pi\n",
    "\n",
    "# define function to calculate integrand of Bessel function Jm(x)\n",
    "def f(m,x, theta):\n",
    "    return np.cos(m*theta-x*np.sin(theta))\n",
    "\n",
    "# Define function to calculate the mth Bessel function\n",
    "# Function uses Simpson's rule to evaluate the integral\n",
    "def J(m,x):\n",
    "    # limits of integration\n",
    "    a = 0\n",
    "    b = pi\n",
    "    \n",
    "    # number of slices\n",
    "    N = int(1000)\n",
    "    # slice width\n",
    "    h = (b-a)/N\n",
    "    \n",
    "    #Initialize the estimate I at end points\n",
    "    I = (f(m,x,a) + f(m,x,b))\n",
    "\n",
    "    # Sum up odd and even slices \n",
    "    for k in range(1, N, 2):\n",
    "        I += 4*f(m,x, a+k*h)\n",
    "    \n",
    "    for k in range(2, N, 2):\n",
    "        I += 2*f(m, x, a+k*h)\n",
    "\n",
    "    # Multiply the sum by the prefactor\n",
    "    I = (1/3)*h*I\n",
    "    \n",
    "    # return the Bessel function\n",
    "    return  (1/pi)*I\n",
    "    \n",
    "# xvalues to plot\n",
    "x = np.linspace(0,20,100)\n",
    "\n",
    "# calculate J0 Bessel function\n",
    "m = 0\n",
    "J0 = J(m,x)\n",
    "\n",
    "# calculate J1 Bessel function\n",
    "m = 1\n",
    "J1 = J(m,x)\n",
    "\n",
    "# calculate J2 Bessel function\n",
    "m = 2\n",
    "J2 = J(m,x)\n",
    "    \n",
    "# plot J0, J1, J2 on same plot\n",
    "plt.plot(x,J0, label=\"J0\")\n",
    "plt.plot(x,J1, label=\"J1\")\n",
    "plt.plot(x,J2, label=\"J2\")\n",
    "plt.legend()\n",
    "plt.xlabel(\"x\")\n",
    "plt.ylabel(r\"$J_m(x)$\")\n",
    "plt.show()"
   ]
  },
  {
   "cell_type": "markdown",
   "metadata": {},
   "source": [
    "**b)** Make a second program that makes a density plot of the intensity of the circular diffraction pattern of a point light source with\n",
    "\n",
    "$$\n",
    "\\lambda=500\\,nm\n",
    "$$\n",
    "\n",
    "in a square region of the focal plane, using the formula given above. Your picture should cover values of \\(r\\) from zero up to about \\(1\\,\\mu m\\).\n"
   ]
  },
  {
   "cell_type": "code",
   "execution_count": null,
   "metadata": {},
   "outputs": [
    {
     "data": {
      "image/png": "[encoded data removed]",
      "text/plain": [
       "<Figure size 432x288 with 2 Axes>"
      ]
     },
     "metadata": {
      "needs_background": "light"
     },
     "output_type": "display_data"
    }
   ],
   "source": [
    "# Part b\n",
    "# Create a density plot of diffraction pattern for a specified wavelength\n",
    "\n",
    "# wavelength, nm (can't name variable lambda since that is a reserved word)\n",
    "l = 500.\n",
    "\n",
    "# calculate wave number, nm-1\n",
    "k = 2*pi/l\n",
    "\n",
    "# set r_max, the maximum radial extent of diffraction pattern, nm\n",
    "r_max = 1e3\n",
    "\n",
    "# calculate the radius at sides of square focal plane, nm\n",
    "r_sq = np.sqrt(r_max*r_max/2)\n",
    "\n",
    "# set the number of focal plane pixels on either side of center, assume square\n",
    "Nhalf = 30\n",
    "\n",
    "# calculate total pixels along one dimension\n",
    "Npix = 2*Nhalf + 1\n",
    "\n",
    "# calculate the width of a pixel, nm/pixel\n",
    "pixwidth = 2*r_sq/Npix\n",
    "\n",
    "# create an Npix X Npix array to hold the diffraction pattern\n",
    "diffraction = np.zeros([Npix,Npix], float)\n",
    "\n",
    "\n",
    "# loop over the x and y dimensions of focal plane to calculate the diffraction intensity\n",
    "for i in range(-Nhalf, Nhalf + 1):\n",
    "    for j in range(-Nhalf, Nhalf + 1):\n",
    "        # convert i,j indices to physical distances\n",
    "        x = i*pixwidth\n",
    "        y = j*pixwidth\n",
    "        # calculate distance to center\n",
    "        r = np.sqrt(x**2 + y**2)\n",
    "        \n",
    "        kr = k*r\n",
    "        if (kr ==0):\n",
    "            diffraction[j+Nhalf,i+Nhalf] = 1/4\n",
    "        else:\n",
    "            diffraction[j+Nhalf,i+Nhalf] = (J(1.,kr)/kr)**2\n",
    "        \n",
    "            \n",
    "plt.jet()\n",
    "# use keyword vmax so lower intensity fringes are visible\n",
    "plt.imshow(diffraction, vmax=0.01, extent=[0,Npix*pixwidth,0,Npix*pixwidth])\n",
    "#plt.imshow(diffraction)\n",
    "plt.xlabel(\"x(nm)\")\n",
    "plt.ylabel(\"y(nm)\")\n",
    "plt.colorbar()\n",
    "plt.show()"
   ]
  },
  {
   "cell_type": "markdown",
   "metadata": {},
   "source": [
    "**Exercise 5.6**\n",
    "\n",
    "a) Write a program, or modify an earlier one, to once more calculate\n",
    "the value of the integral $\\int_0^2 (x^4 - 2x + 1) \\>d x$ from\n",
    "Example (5.28), using the trapezoidal rule with $20$ slices, but this time\n",
    "have the program also print an estimate of the error on the result,\n",
    "calculated using the method of Eq. (5.28).  To do this you will need to\n",
    "evaluate the integral twice, once with $N_1=10$ slices and then again with\n",
    "$N_2=20$ slices.  Then Eq. (5.28) gives the error.  How does the error\n",
    "calculated in this manner compare with a direct computation of the error as\n",
    "the difference between your value for the integral and the true value\n",
    "of 4.4?  Why do the two not agree perfectly?"
   ]
  },
  {
   "cell_type": "code",
   "execution_count": null,
   "metadata": {},
   "outputs": [
    {
     "name": "stdout",
     "output_type": "stream",
     "text": [
      "I1=4.50656, I2=4.426660000000001\n",
      "Error from eq5.28=0.026633333333333137\n",
      "true error = 0.026660000000000572\n",
      "Error calculated using eq5.28 is not exact as it neglects higher order error terms\n"
     ]
    }
   ],
   "source": [
    "\"\"\"\n",
    "Program: ex5.6_error_on_trapezoidal_rule\n",
    "Purpose: Calculate the approximation error on the TR using \"practical\" method, eq 5.28\n",
    "Does it work?: Yes\n",
    "Other information: \n",
    "    \n",
    "N1=10, I1=4.50656\n",
    "N2 = 20, I2 = 4.426660000000001\n",
    "error = 0.026633333333333137\n",
    "\n",
    "The error calculated using the Euler-Maclaurin method is 0.02. \n",
    "\"\"\"\n",
    "\n",
    "# define function to calculate integrand\n",
    "def f(x):\n",
    "    return(x**4 -2*x +1)\n",
    "\n",
    "# set integration interval\n",
    "a = 0\n",
    "b = 2\n",
    "\n",
    "# First estimate the integral using N1 slices\n",
    "N1 = int(10)\n",
    "h = (b-a)/N1\n",
    "\n",
    "I1 = 0\n",
    "\n",
    "#Calculate summation in trapezoidal rule\n",
    "# this loops from k=1, N-1\n",
    "for k in range(1,N1):\n",
    "    I1 += f(a+k*h)\n",
    "\n",
    "# add the endpoints and multiply by h\n",
    "I1 = h*(0.5*f(a) + 0.5*f(b) +I1)\n",
    "\n",
    "# Next estimate the integral using twice the number of slices\n",
    "N2 = 2*N1\n",
    "h = (b-a)/N2\n",
    "\n",
    "# initialize I2\n",
    "I2 = 0\n",
    "for k in range(1,N2):\n",
    "    I2 += f(a+k*h)\n",
    "\n",
    "    # add the endpoints and multiply by h    \n",
    "I2 = h*(0.5*f(a) + 0.5*f(b) +I2)\n",
    "\n",
    "# Next calculate the approximation error using N2 using eq (5.28)\n",
    "err = abs ((1/3)*(I2-I1))\n",
    "\n",
    "print(\"I1={}, I2={}\".format(I1, I2))\n",
    "print(\"Error from eq5.28={}\".format(err))\n",
    "print(\"true error = {}\".format(abs(4.4-I2)))\n",
    "print(\"Error calculated using eq5.28 is not exact as it neglects higher order error terms\")"
   ]
  },
  {
   "cell_type": "markdown",
   "metadata": {},
   "source": [
    "N = 10: I1 = 4.50656  \n",
    "N = 20: I2 = 4.426660000000001  \n",
    "Error calculated from Eq (5.28) = 0.0266333  \n",
    "Since the true integral is 4.4, the true error of I2 = 0.0266600  \n",
    "The error calculated using Eq. (5.28) is not exact since it neglects higher order error terms.  "
   ]
  }
 ],
 "metadata": {
  "kernelspec": {
   "display_name": "Python 3",
   "language": "python",
   "name": "python3"
  },
  "language_info": {
   "codemirror_mode": {
    "name": "ipython",
    "version": 3
   },
   "file_extension": ".py",
   "mimetype": "text/x-python",
   "name": "python",
   "nbconvert_exporter": "python",
   "pygments_lexer": "ipython3",
   "version": "3.12.0"
  }
 },
 "nbformat": 4,
 "nbformat_minor": 4
}
